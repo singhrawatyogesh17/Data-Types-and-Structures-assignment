{
  "nbformat": 4,
  "nbformat_minor": 0,
  "metadata": {
    "colab": {
      "provenance": []
    },
    "kernelspec": {
      "name": "python3",
      "display_name": "Python 3"
    },
    "language_info": {
      "name": "python"
    }
  },
  "cells": [
    {
      "cell_type": "markdown",
      "source": [
        "# Data Types and Structures Assignment:"
      ],
      "metadata": {
        "id": "y2FxtLu_2CR3"
      }
    },
    {
      "cell_type": "markdown",
      "source": [
        "#Theoretical Questions:"
      ],
      "metadata": {
        "id": "iP7QvjmQ2Ulx"
      }
    },
    {
      "cell_type": "markdown",
      "source": [
        "1. What are data structures, and why are they important?\n",
        "- Data structures are specialized formats for organizing, storing, and accessing collections of data. They provide efficient ways to manage information based on its characteristics and intended use.They can be the containers that holds our data.\n",
        "\n",
        "2.  Explain the difference between mutable and immutable data types with examples?\n",
        "- Mutable data types are those whose values can be changed after they are created. For Eg: Lists,Dictionaries,Sets\n",
        "\n",
        "-Immutable data types are those whose values cannot be changed once they are created. If you try to modify an immutable object, a new object is created instead. For Eg:Integers , Floats , complex numbers , strings , tuples.\n",
        "\n",
        "3. What are the main differences between lists and tuples in Python?\n",
        "- Lists are mutable. Lists consume more memory.The list is better for performing operations, such as insertion and deletion.Lists consume more memory.Lists have several built-in methods and fucntions.\n",
        "\n",
        "-Tuples are immutable.Tuple consumes less memory as compared to the list.Tuple does not have many built-in methods.Because tuples don’t change they are far less error in them .\n",
        "\n",
        "4.Describe how dictionaries store data?\n",
        "- A dictionary is a data structure that stores the value in key: value pairs. Values in a dictionary can be of any data type and can be duplicated, whereas keys can’t be repeated and must be immutable.\n",
        "for eg:\n",
        "x = {1: \"rahul\", 2: \"ravneet\", 3: \"raveena\"}\n",
        "\n",
        "5. Why might you use a set instead of a list in Python?\n",
        "- A set is an unordered collection of unique elements. Sets are defined using curly braces {} or the set() function.A set Contain only unique elements and  automatically removing duplicates.It Support mathematical operations like union, intersection, and difference.It Support mathematical operations like union, intersection, and difference.It is Suitable for membership testing and eliminating duplicates.It can be useful when you need to ensure all elements are unique.\n",
        "\n",
        "-A list is an ordered collection of elements that can contain duplicates. Lists are defined using square brackets [].It Slower for membership tests as it may need to check each element. It Support slicing, indexing, and various sequence operations.\n",
        "\n",
        "6. What is a string in Python, and how is it different from a list?\n",
        "- A Python string is a data structure that represents a sequence of characters and is defined by (') or (\") quotes.Python strings are immutable, which means they cannot be changed or altered after they have been created. Strings can be concatenated using the + operator. This creates a new string that contains the characters of both strings.Characters in a string can be accessed using their index, which starts at 0.\n",
        "\n",
        "- A Python list is used to store different data types, like strings, integers, lists, etc.A list is an ordered collection of elements.A list can hold duplicate values.Lists are mutable, which means you can add, remove, or modify elements after the list is created.\n",
        "\n",
        "7.  How do tuples ensure data integrity in Python?\n",
        "- The main characteristics of tuples are being ordered , heterogeneous and immutable. Tuples can hold elements of different data types. Tuples can be used to store heterogeneous data, ensuring that the structure and order of the data remain intact.\n",
        "\n",
        "8.What is a hash table, and how does it relate to dictionaries in Python?\n",
        "- A Hash table is defined as a data structure used to insert, look up, and remove key-value pairs quickly.Whereas dictionaries in python serves the same purpose and Dic. are also known as Builtin Hashtables.\n",
        "\n",
        "9.Can lists contain different data types in Python?\n",
        "- In Python, lists can contain elements of different data types. For example, you can have integers, floats, strings, and even other lists all within the same list.\n",
        "\n",
        "10. Explain why strings are immutable in Python?\n",
        "- Strings in Python are “immutable” which means they can not be changed after they are created. Immutability is very important in Python, as it helps in data safety and interpreter performance. The string data type is very common in Python programs hence they are immutable.Since immutable objects cannot change their value, Python can optimize memory usage.With immutability, you can be confident that a given object’s value will not change unexpectedly.\n",
        "\n",
        "\n"
      ],
      "metadata": {
        "id": "RGat-fX22gWZ"
      }
    },
    {
      "cell_type": "markdown",
      "source": [
        "11.What advantages do dictionaries offer over lists for certain task?\n",
        "- Dictionaries offer several advantages over lists for certain tasks:\n",
        "\n",
        "\n",
        "Quick Data Look-ups: Dictionaries allow for fast access to values using keys.\n",
        "They help in organizing data efficiently, reducing complexity when handling large datasets.\n",
        " Dictionaries can store data in key-value pairs, which allows for more complex data structures compared to the linear nature of lists.\n",
        "\n",
        " Efficient Searching: For example, when storing phone numbers, dictionaries enable quicker searches for specific numbers compared to searching through a list of pairs.\n",
        " These features make dictionaries particularly useful in scenarios where quick access and organization of data are essential.\n",
        "\n",
        " 12. Describe a scenario where using a tuple would be preferable over a list.\n",
        "-When we want to ensure that data is not changed accidentally. Tuples being immutable do not allow any changes in its data.When we want faster access to data that will not change as tuples are faster than lists.\n",
        "\n",
        "When we want to use the data as a key in a dictionary. Tuples can be used as keys in a dictionary, but lists cannot.\n",
        "\n",
        "When we want to use the data as an element of a set. Tuples can be used as elements of a set, but lists cannot.\n",
        "\n",
        "13.  How do sets handle duplicate values in Python?\n",
        "- In Python, sets are a built-in data type that automatically handle duplicate values by ensuring that each element is unique. When you add elements to a set, any duplicates are automatically removed.\n",
        "\n",
        "14.  How does the “in” keyword work differently for lists and dictionaries?\n",
        "- The in operator uses different algorithms for lists and dictionaries. For lists, it uses a search algorithm. As the list gets longer, the search time gets longer in direct\n",
        "proportion. For dictionaries, Python uses an algorithm called a hashtable that has a remarkable property: the in operator takes about the same amount of time no matter how many items there are in a dictionary.\n",
        "\n",
        "15.  Can you modify the elements of a tuple? Explain why or why not?\n",
        "- In Python, you cannot modify the elements of a tuple because tuples are immutable. This means that once a tuple is created, its elements cannot be changed, added, or removed. If you need to modify the data, you can convert the tuple into a list, make the changes, and then convert it back into a tuple. This immutability is a key characteristic that distinguishes tuples from lists, which are mutable.\n",
        "\n",
        "16.  What is a nested dictionary, and give an example of its use case?\n",
        "- Nesting Dictionary means putting a dictionary inside another dictionary.In Python, a Nested dictionary can be created by placing the comma-separated dictionaries enclosed within braces.\n",
        "\n",
        "17.  Describe the time complexity of accessing elements in a dictionary?\n",
        "- The time complexity of retrieving a value by its key in a dictionary is O(1). This is because dictionaries use a hash table internally which allows constant time lookup.\n",
        "\n",
        "18.  In what situations are lists preferred over dictionaries?\n",
        "- Dictionaries excel in scenarios requiring fast lookups, key-value associations, and complex data mappings, while lists are ideal for ordered collections, sequential processing, and simple data storage.\n",
        "\n",
        "19. Why are dictionaries considered unordered, and how does that affect data retrieval?\n",
        "- Dictionaries are considered unordered because they do not maintain an inherent positional index like lists or arrays; instead, they use keys to uniquely identify and retrieve values associated with those keys. This means that the order in which elements are stored is not the same as the order in which they are printed. The unordered nature of dictionaries allows for optimized storage and fast retrieval based on keys, which can enhance performance when accessing data.\n",
        "\n",
        "20. Explain the difference between a list and a dictionary in terms of data retrieval?\n",
        "- Accessing elements of a list is a common operation and can be done using different techniques.Indexing is the simplest and most direct way to access specific items in a list. Every item in a list has an index starting from 0. We can also use for loop , Slicing and list comprehension techniques for data retrieval in a list.\n",
        "\n",
        "whereas in dictionary they use keys to uniquely identify and retrieve values associated with those keys.We can also use get() , \"in\" keyword techniques for data retrieval.\n",
        "\n",
        "\n",
        "\n"
      ],
      "metadata": {
        "id": "p615Y_JbQqth"
      }
    },
    {
      "cell_type": "markdown",
      "source": [
        "## Practical Questions :"
      ],
      "metadata": {
        "id": "15dp1t1KZtqT"
      }
    },
    {
      "cell_type": "code",
      "source": [
        "#1.  Write a code to create a string with your name and print it.\n",
        "\n",
        "name = \"Yogesh singh Rawat\"\n",
        "print(name)"
      ],
      "metadata": {
        "colab": {
          "base_uri": "https://localhost:8080/"
        },
        "id": "zXzN0RkZZzP4",
        "outputId": "970f4b62-99c0-4dac-aea7-f6c30642d465"
      },
      "execution_count": 1,
      "outputs": [
        {
          "output_type": "stream",
          "name": "stdout",
          "text": [
            "Yogesh singh Rawat\n"
          ]
        }
      ]
    },
    {
      "cell_type": "code",
      "source": [
        "#2.  Write a code to find the length of the string \"Hello World\"\n",
        "\n",
        "string = \"Hello World\"\n",
        "print(len(string))"
      ],
      "metadata": {
        "colab": {
          "base_uri": "https://localhost:8080/"
        },
        "id": "PQfpZezuZ-oM",
        "outputId": "76b6f400-ae64-484e-ebbe-57c1cfc944c9"
      },
      "execution_count": 2,
      "outputs": [
        {
          "output_type": "stream",
          "name": "stdout",
          "text": [
            "11\n"
          ]
        }
      ]
    },
    {
      "cell_type": "code",
      "source": [
        "#3.  Write a code to slice the first 3 characters from the string \"Python Programming\"\n",
        "\n",
        "string = \"Python Programming\"\n",
        "print(string[0:3])"
      ],
      "metadata": {
        "colab": {
          "base_uri": "https://localhost:8080/"
        },
        "id": "njA5m9GDaF6W",
        "outputId": "d9300d91-3057-4115-fb6c-4ff0d14b6dc6"
      },
      "execution_count": 3,
      "outputs": [
        {
          "output_type": "stream",
          "name": "stdout",
          "text": [
            "Pyt\n"
          ]
        }
      ]
    },
    {
      "cell_type": "code",
      "source": [
        "#4.  Write a code to convert the string \"hello\" to uppercase.\n",
        "\n",
        "str1 = \"hello\"\n",
        "my_str = str1.upper()\n",
        "print(my_str)\n"
      ],
      "metadata": {
        "colab": {
          "base_uri": "https://localhost:8080/"
        },
        "id": "La36aVfDaNiA",
        "outputId": "775c1080-3505-421b-d29f-bb138b558d58"
      },
      "execution_count": 11,
      "outputs": [
        {
          "output_type": "stream",
          "name": "stdout",
          "text": [
            "HELLO\n"
          ]
        }
      ]
    },
    {
      "cell_type": "code",
      "source": [
        "#5.  Write a code to replace the word \"apple\" with \"orange\" in the string \"I like apple\"\n",
        "\n",
        "str2 = \"I like apple\"\n",
        "my_str1 = str2.replace(\"apple\",\"orange\")\n",
        "print(my_str1)"
      ],
      "metadata": {
        "colab": {
          "base_uri": "https://localhost:8080/"
        },
        "id": "CnGYw113a_n9",
        "outputId": "4c17f4ef-801e-4492-c92b-b95148ee2fe1"
      },
      "execution_count": 13,
      "outputs": [
        {
          "output_type": "stream",
          "name": "stdout",
          "text": [
            "I like orange\n"
          ]
        }
      ]
    },
    {
      "cell_type": "code",
      "source": [
        "#6.  Write a code to create a list with numbers 1 to 5 and print it\n",
        "\n",
        "list1 = [1,2,3,4,5]\n",
        "print(list1)"
      ],
      "metadata": {
        "colab": {
          "base_uri": "https://localhost:8080/"
        },
        "id": "Ag5fsC_YbPoK",
        "outputId": "8b36b650-c5bc-4a2b-d285-7a83a36c6b34"
      },
      "execution_count": 14,
      "outputs": [
        {
          "output_type": "stream",
          "name": "stdout",
          "text": [
            "[1, 2, 3, 4, 5]\n"
          ]
        }
      ]
    },
    {
      "cell_type": "code",
      "source": [
        "#7.  Write a code to append the number 10 to the list [1, 2, 3, 4]\n",
        "\n",
        "list2 =  [1, 2, 3, 4]\n",
        "list2.append(10)\n",
        "print(list2)"
      ],
      "metadata": {
        "colab": {
          "base_uri": "https://localhost:8080/"
        },
        "id": "G8f-L3AsbWFZ",
        "outputId": "4be13270-0e0b-4a88-8f6b-98350c96f89a"
      },
      "execution_count": 15,
      "outputs": [
        {
          "output_type": "stream",
          "name": "stdout",
          "text": [
            "[1, 2, 3, 4, 10]\n"
          ]
        }
      ]
    },
    {
      "cell_type": "code",
      "source": [
        "#8.  Write a code to remove the number 3 from the list [1, 2, 3, 4, 5\n",
        "\n",
        "list3 = [1, 2, 3, 4, 5]\n",
        "list3.remove(3)\n",
        "print(list3)"
      ],
      "metadata": {
        "colab": {
          "base_uri": "https://localhost:8080/"
        },
        "id": "W505JM3bbm31",
        "outputId": "63be00cf-cc86-4306-ae52-1210f3139907"
      },
      "execution_count": 16,
      "outputs": [
        {
          "output_type": "stream",
          "name": "stdout",
          "text": [
            "[1, 2, 4, 5]\n"
          ]
        }
      ]
    },
    {
      "cell_type": "code",
      "source": [
        "#9.  Write a code to access the second element in the list ['a', 'b', 'c', 'd']\n",
        "\n",
        "list4 = ['a', 'b', 'c', 'd']\n",
        "print(list4[1])"
      ],
      "metadata": {
        "colab": {
          "base_uri": "https://localhost:8080/"
        },
        "id": "BXGbGSeIbswe",
        "outputId": "a8422927-fa9a-4840-f622-9aa04663c680"
      },
      "execution_count": 17,
      "outputs": [
        {
          "output_type": "stream",
          "name": "stdout",
          "text": [
            "b\n"
          ]
        }
      ]
    },
    {
      "cell_type": "code",
      "source": [
        "#10. Write a code to reverse the list [10, 20, 30, 40, 50].\n",
        "\n",
        "list5 = [10, 20, 30, 40, 50]\n",
        "list5.reverse()\n",
        "print(list5)"
      ],
      "metadata": {
        "colab": {
          "base_uri": "https://localhost:8080/"
        },
        "id": "yZBmruuVbzhs",
        "outputId": "4838a0af-6bbe-413d-eeae-514efd27c7e9"
      },
      "execution_count": 18,
      "outputs": [
        {
          "output_type": "stream",
          "name": "stdout",
          "text": [
            "[50, 40, 30, 20, 10]\n"
          ]
        }
      ]
    },
    {
      "cell_type": "code",
      "source": [
        "#11. Write a code to create a tuple with the elements 100, 200, 300 and print it\n",
        "\n",
        "tuple1 = (100,200,300)\n",
        "print(tuple1)"
      ],
      "metadata": {
        "colab": {
          "base_uri": "https://localhost:8080/"
        },
        "id": "duMkHv7Yb7T6",
        "outputId": "42e4815f-9ee2-425a-fad3-1a08c3ecc23e"
      },
      "execution_count": 19,
      "outputs": [
        {
          "output_type": "stream",
          "name": "stdout",
          "text": [
            "(100, 200, 300)\n"
          ]
        }
      ]
    },
    {
      "cell_type": "code",
      "source": [
        "#12. Write a code to access the second-to-last element of the tuple ('red', 'green', 'blue', 'yellow').\n",
        "\n",
        "tuple2 = ('red', 'green', 'blue', 'yellow')\n",
        "print(tuple2[-2])"
      ],
      "metadata": {
        "colab": {
          "base_uri": "https://localhost:8080/"
        },
        "id": "O-toy6f1cBv-",
        "outputId": "461d79fa-5e41-4f49-f624-34aee0d12962"
      },
      "execution_count": 20,
      "outputs": [
        {
          "output_type": "stream",
          "name": "stdout",
          "text": [
            "blue\n"
          ]
        }
      ]
    },
    {
      "cell_type": "code",
      "source": [
        "#13. Write a code to find the minimum number in the tuple (10, 20, 5, 15).\n",
        "\n",
        "tuple3 = (10, 20, 5, 15)\n",
        "print(min(tuple3))"
      ],
      "metadata": {
        "colab": {
          "base_uri": "https://localhost:8080/"
        },
        "id": "JB-hfbEncPvp",
        "outputId": "33c37f86-d87e-4be8-fb1b-51473b8133c9"
      },
      "execution_count": 21,
      "outputs": [
        {
          "output_type": "stream",
          "name": "stdout",
          "text": [
            "5\n"
          ]
        }
      ]
    },
    {
      "cell_type": "code",
      "source": [
        "#14. Write a code to find the index of the element \"cat\" in the tuple ('dog', 'cat', 'rabbit').\n",
        "\n",
        "tuple4 = ('dog', 'cat', 'rabbit')\n",
        "print(tuple4.index(\"cat\"))"
      ],
      "metadata": {
        "colab": {
          "base_uri": "https://localhost:8080/"
        },
        "id": "3T9HhrgucsXq",
        "outputId": "53d42e6b-b8a2-46a5-fcae-66a98ba4004f"
      },
      "execution_count": 23,
      "outputs": [
        {
          "output_type": "stream",
          "name": "stdout",
          "text": [
            "1\n"
          ]
        }
      ]
    },
    {
      "cell_type": "code",
      "source": [
        "#15.  Write a code to create a tuple containing three different fruits and check if \"kiwi\" is in it\n",
        "\n",
        "tuple5 = (\"apple\", \"banana\", \"cherry\")\n",
        "if \"kiwi\" in tuple5:\n",
        "  print(\"Yes, 'kiwi' is in the fruits tuple\")\n",
        "else:\n",
        "  print(\"No, 'kiwi' is not in the fruits tuple\")\n"
      ],
      "metadata": {
        "colab": {
          "base_uri": "https://localhost:8080/"
        },
        "id": "BgpAgQQCcyee",
        "outputId": "ba96ac70-1eaf-4a6b-e36d-83e0f2edb72c"
      },
      "execution_count": 25,
      "outputs": [
        {
          "output_type": "stream",
          "name": "stdout",
          "text": [
            "No, 'kiwi' is not in the fruits tuple\n"
          ]
        }
      ]
    },
    {
      "cell_type": "code",
      "source": [
        "#16.  Write a code to create a set with the elements 'a', 'b', 'c' and print it.\n",
        "\n",
        "set1 = {'a', 'b', 'c'}\n",
        "print(set1)"
      ],
      "metadata": {
        "colab": {
          "base_uri": "https://localhost:8080/"
        },
        "id": "X0BErMe7dRxy",
        "outputId": "948ab10c-4ae8-4582-8156-0687bec46558"
      },
      "execution_count": 26,
      "outputs": [
        {
          "output_type": "stream",
          "name": "stdout",
          "text": [
            "{'b', 'c', 'a'}\n"
          ]
        }
      ]
    },
    {
      "cell_type": "code",
      "source": [
        "#17.\n",
        "set2 = {1, 2, 3, 4, 5}\n",
        "set2.clear()\n",
        "print(set2)\n"
      ],
      "metadata": {
        "colab": {
          "base_uri": "https://localhost:8080/"
        },
        "id": "8x5BK0bDdY3s",
        "outputId": "213d29f3-6982-4a9d-f483-b960e9d3b3a0"
      },
      "execution_count": 29,
      "outputs": [
        {
          "output_type": "stream",
          "name": "stdout",
          "text": [
            "set()\n"
          ]
        }
      ]
    },
    {
      "cell_type": "code",
      "source": [
        "#18.\n",
        "set3 = {1, 2, 3, 4}\n",
        "set3.remove(4)\n",
        "print(set3)\n"
      ],
      "metadata": {
        "colab": {
          "base_uri": "https://localhost:8080/"
        },
        "id": "l7Fl5QPkdlnV",
        "outputId": "cba30606-30f2-49b9-ce36-01c957fba781"
      },
      "execution_count": 31,
      "outputs": [
        {
          "output_type": "stream",
          "name": "stdout",
          "text": [
            "{1, 2, 3}\n"
          ]
        }
      ]
    },
    {
      "cell_type": "code",
      "source": [
        "#19.  Write a code to find the union of two sets {1, 2, 3} and {3, 4, 5}\n",
        "\n",
        "set4 = {1, 2, 3}\n",
        "set5 = {3, 4, 5}\n",
        "print(set4.union(set5))"
      ],
      "metadata": {
        "colab": {
          "base_uri": "https://localhost:8080/"
        },
        "id": "kNgb6elvd8jb",
        "outputId": "0cdac727-2d50-438b-e7e7-098575f690e9"
      },
      "execution_count": 32,
      "outputs": [
        {
          "output_type": "stream",
          "name": "stdout",
          "text": [
            "{1, 2, 3, 4, 5}\n"
          ]
        }
      ]
    },
    {
      "cell_type": "code",
      "source": [
        "#20. Write a code to find the intersection of two sets {1, 2, 3} and {2, 3, 4}\n",
        "\n",
        "set6 = {1, 2, 3}\n",
        "set7 = {2, 3, 4}\n",
        "print(set6.intersection(set7))"
      ],
      "metadata": {
        "colab": {
          "base_uri": "https://localhost:8080/"
        },
        "id": "uzsbbGEleGby",
        "outputId": "369090ca-e9b8-432d-d4df-10b1bda1acd7"
      },
      "execution_count": 33,
      "outputs": [
        {
          "output_type": "stream",
          "name": "stdout",
          "text": [
            "{2, 3}\n"
          ]
        }
      ]
    },
    {
      "cell_type": "code",
      "source": [
        "#21.  Write a code to create a dictionary with the keys \"name\", \"age\", and \"city\", and print it\n",
        "\n",
        "my_dict = {\"name\": \"Yogesh\", \"age\": 22, \"city\": \"Chandigarh\"}\n",
        "my_dict"
      ],
      "metadata": {
        "colab": {
          "base_uri": "https://localhost:8080/"
        },
        "id": "soIt0yDQhZRC",
        "outputId": "e8fffa39-f54f-424d-a21e-4d956c57253e"
      },
      "execution_count": 34,
      "outputs": [
        {
          "output_type": "execute_result",
          "data": {
            "text/plain": [
              "{'name': 'Yogesh', 'age': 22, 'city': 'Chandigarh'}"
            ]
          },
          "metadata": {},
          "execution_count": 34
        }
      ]
    },
    {
      "cell_type": "code",
      "source": [
        "#22.  Write a code to add a new key-value pair \"country\": \"USA\" to the dictionary {'name': 'John', 'age': 25}.\n",
        "\n",
        "my_dict1 = {'name': 'John', 'age': 25}\n",
        "my_dict1[\"country\"] = \"USA\"\n",
        "my_dict1"
      ],
      "metadata": {
        "colab": {
          "base_uri": "https://localhost:8080/"
        },
        "id": "ctR6cB1KhpWe",
        "outputId": "2c4e9a2c-f04c-491b-f503-c11a525507dd"
      },
      "execution_count": 35,
      "outputs": [
        {
          "output_type": "execute_result",
          "data": {
            "text/plain": [
              "{'name': 'John', 'age': 25, 'country': 'USA'}"
            ]
          },
          "metadata": {},
          "execution_count": 35
        }
      ]
    },
    {
      "cell_type": "code",
      "source": [
        "#23. Write a code to access the value associated with the key \"name\" in the dictionary {'name': 'Alice', 'age': 30}\n",
        "\n",
        "my_dict2 = {'name': 'Alice', 'age': 30}\n",
        "print(my_dict2[\"name\"])"
      ],
      "metadata": {
        "colab": {
          "base_uri": "https://localhost:8080/"
        },
        "id": "eZDECfHhh0Dv",
        "outputId": "5bb26821-421d-438d-b9f0-a8bec1fd44b2"
      },
      "execution_count": 36,
      "outputs": [
        {
          "output_type": "stream",
          "name": "stdout",
          "text": [
            "Alice\n"
          ]
        }
      ]
    },
    {
      "cell_type": "code",
      "source": [
        "#24. Write a code to remove the key \"age\" from the dictionary {'name': 'Bob', 'age': 22, 'city': 'New York'}.\n",
        "\n",
        "my_dict3 = {'name': 'Bob', 'age': 22, 'city': 'New York'}\n",
        "my_dict3.pop(\"age\")\n",
        "my_dict3"
      ],
      "metadata": {
        "colab": {
          "base_uri": "https://localhost:8080/"
        },
        "id": "jbAdz-Qbh8s0",
        "outputId": "c5120a05-9319-4b19-b65b-2c517a12b79c"
      },
      "execution_count": 37,
      "outputs": [
        {
          "output_type": "execute_result",
          "data": {
            "text/plain": [
              "{'name': 'Bob', 'city': 'New York'}"
            ]
          },
          "metadata": {},
          "execution_count": 37
        }
      ]
    },
    {
      "cell_type": "code",
      "source": [
        "#25. Write a code to check if the key \"city\" exists in the dictionary {'name': 'Alice', 'city': 'Paris'}\n",
        "\n",
        "my_dict4 = {'name': 'Alice', 'city': 'Paris'}\n",
        "if \"city\" in my_dict4:\n",
        "  print(\"Yes, 'city' is one of the keys in the dictionary\")"
      ],
      "metadata": {
        "colab": {
          "base_uri": "https://localhost:8080/"
        },
        "id": "DhxqihGQiDv2",
        "outputId": "f44fc329-8ce8-4807-a904-2c4a74177349"
      },
      "execution_count": 38,
      "outputs": [
        {
          "output_type": "stream",
          "name": "stdout",
          "text": [
            "Yes, 'city' is one of the keys in the dictionary\n"
          ]
        }
      ]
    },
    {
      "cell_type": "code",
      "source": [
        "#26.  Write a code to create a list, a tuple, and a dictionary, and print them all.\n",
        "\n",
        "list1 = [1,2,3,4,5]\n",
        "tuple1 = (1,2,3,4,5)\n",
        "dict1 = {\"name\": \"Yogesh\", \"age\": 22, \"city\": \"Chandigarh\"}\n",
        "\n",
        "print(list1)\n",
        "print(tuple1)\n",
        "print(dict1)"
      ],
      "metadata": {
        "colab": {
          "base_uri": "https://localhost:8080/"
        },
        "id": "lxoGumv1iJae",
        "outputId": "853df19e-cf4e-4e0d-a1c1-a101f9de25ac"
      },
      "execution_count": 40,
      "outputs": [
        {
          "output_type": "stream",
          "name": "stdout",
          "text": [
            "[1, 2, 3, 4, 5]\n",
            "(1, 2, 3, 4, 5)\n",
            "{'name': 'Yogesh', 'age': 22, 'city': 'Chandigarh'}\n"
          ]
        }
      ]
    },
    {
      "cell_type": "code",
      "source": [
        "#27. Write a code to create a list of 5 random numbers between 1 and 100, sort it in ascending order, and print the result.\n",
        "\n",
        "list6 = [20, 30, 10, 50, 40]\n",
        "list6.sort()\n",
        "print(list6)"
      ],
      "metadata": {
        "colab": {
          "base_uri": "https://localhost:8080/"
        },
        "id": "_LM5Uh5sigQP",
        "outputId": "bd43b7f0-44f4-4288-af59-0bf462f9aa2e"
      },
      "execution_count": 41,
      "outputs": [
        {
          "output_type": "stream",
          "name": "stdout",
          "text": [
            "[10, 20, 30, 40, 50]\n"
          ]
        }
      ]
    },
    {
      "cell_type": "code",
      "source": [
        "#28. Write a code to create a list with strings and print the element at the third index.\n",
        "\n",
        "list7 = [\"apple\", \"banana\", \"cherry\", \"date\", \"elderberry\"]\n",
        "print(list7[3])"
      ],
      "metadata": {
        "colab": {
          "base_uri": "https://localhost:8080/"
        },
        "id": "pbVG5i9Piu_B",
        "outputId": "7abc92ee-19d6-4bb3-81c4-4fde7013f6d8"
      },
      "execution_count": 42,
      "outputs": [
        {
          "output_type": "stream",
          "name": "stdout",
          "text": [
            "date\n"
          ]
        }
      ]
    },
    {
      "cell_type": "code",
      "source": [
        "#29.Write a code to combine two dictionaries into one and print the result.\n",
        "\n",
        "dict1 = {'a': 1, 'b': 2}\n",
        "dict2 = {'c': 3, 'd': 4}\n",
        "dict1.update(dict2)\n",
        "print(dict1)"
      ],
      "metadata": {
        "colab": {
          "base_uri": "https://localhost:8080/"
        },
        "id": "ekz7zjPtkSiL",
        "outputId": "19a525b5-bd45-4fb3-d723-f0ed8edd7d40"
      },
      "execution_count": 51,
      "outputs": [
        {
          "output_type": "stream",
          "name": "stdout",
          "text": [
            "{'a': 1, 'b': 2, 'c': 3, 'd': 4}\n"
          ]
        }
      ]
    },
    {
      "cell_type": "code",
      "source": [
        "#30. Write a code to convert a list of strings into a set.\n",
        "\n",
        "list8 = [\"apple\", \"banana\", \"cherry\", \"date\", \"elderberry\"]\n",
        "set1 = set(list8)\n",
        "print(set1)\n",
        "\n"
      ],
      "metadata": {
        "colab": {
          "base_uri": "https://localhost:8080/"
        },
        "id": "uIbxPCgHkwoe",
        "outputId": "58c24045-5191-4a62-a65a-d8b5498192e3"
      },
      "execution_count": 52,
      "outputs": [
        {
          "output_type": "stream",
          "name": "stdout",
          "text": [
            "{'banana', 'date', 'cherry', 'apple', 'elderberry'}\n"
          ]
        }
      ]
    },
    {
      "cell_type": "markdown",
      "source": [
        "##            End of assingment"
      ],
      "metadata": {
        "id": "3hw-oXBalBk1"
      }
    }
  ]
}